{
 "cells": [
  {
   "cell_type": "code",
   "execution_count": null,
   "metadata": {},
   "outputs": [],
   "source": [
    "!pip install langchain"
   ]
  },
  {
   "cell_type": "code",
   "execution_count": 1,
   "metadata": {},
   "outputs": [],
   "source": [
    "from langchain.embeddings import LocalAIEmbeddings\n",
    "from langchain.embeddings.huggingface import HuggingFaceBgeEmbeddings\n",
    "\n",
    "host = \"localhost\"\n",
    "embeddings = LocalAIEmbeddings(openai_api_key=\"NONE\",\n",
    "                               openai_api_base=f\"http://{host}:8000/v1\")\n",
    "\n",
    "embeddings_hf = HuggingFaceBgeEmbeddings(model_name=\"BAAI/bge-base-en-v1.5\",\n",
    "                                         encode_kwargs={\"normalize_embeddings\" : True},\n",
    "                                         model_kwargs={\"device\": \"cuda\"})"
   ]
  },
  {
   "cell_type": "code",
   "execution_count": 2,
   "metadata": {},
   "outputs": [],
   "source": [
    "lorem_ipsum = \"\"\"Lorem ipsum dolor sit amet, consectetur adipiscing elit.\n",
    "Sed nec justo tincidunt, iaculis eros eu, tempus turpis.\n",
    "Maecenas et tortor vitae sem finibus interdum eget eget dolor.\n",
    "Suspendisse eu quam ut sapien convallis aliquet.\n",
    "Integer eget nibh vitae lacus imperdiet congue vel non lectus.\n",
    "Sed lobortis nisi et felis scelerisque, ac fringilla neque efficitur.\n",
    "Nam facilisis lacus scelerisque urna ultricies dignissim.\n",
    "Sed ut libero eget augue molestie finibus eget eu nisi.\n",
    "Suspendisse nec mauris in ex convallis accumsan a vel tortor.\n",
    "Vivamus ac lorem ultrices, placerat enim eu, condimentum dolor.\n",
    "Integer volutpat ante sed sollicitudin mattis.\n",
    "Phasellus tincidunt eros quis ligula consequat, eget suscipit sem pretium.\n",
    "Vivamus ornare sem in nisi viverra, a maximus odio semper.\n",
    "Fusce id nunc ac odio placerat ullamcorper.\n",
    "Nulla rhoncus sapien eget dui pellentesque, dapibus suscipit augue venenatis.\n",
    "In et lectus a eros porta fringilla.\n",
    "Suspendisse aliquet leo in venenatis dignissim.\n",
    "Duis sed leo gravida, posuere augue vel, tristique ex.\n",
    "Aliquam et ex eleifend orci tincidunt placerat in sed nisi.\"\"\""
   ]
  },
  {
   "cell_type": "code",
   "execution_count": 3,
   "metadata": {},
   "outputs": [
    {
     "name": "stdout",
     "output_type": "stream",
     "text": [
      "6.63 ms ± 1.68 ms per loop (mean ± std. dev. of 7 runs, 20 loops each)\n"
     ]
    }
   ],
   "source": [
    "%%timeit -n 20\n",
    "embeddings.embed_documents([lorem_ipsum])"
   ]
  },
  {
   "cell_type": "code",
   "execution_count": 6,
   "metadata": {},
   "outputs": [
    {
     "name": "stdout",
     "output_type": "stream",
     "text": [
      "9.96 ms ± 371 µs per loop (mean ± std. dev. of 7 runs, 20 loops each)\n"
     ]
    }
   ],
   "source": [
    "%%timeit -n 20\n",
    "embeddings_hf.embed_documents([lorem_ipsum])"
   ]
  },
  {
   "cell_type": "code",
   "execution_count": null,
   "metadata": {},
   "outputs": [],
   "source": []
  }
 ],
 "metadata": {
  "kernelspec": {
   "display_name": "fast-embeddings",
   "language": "python",
   "name": "python3"
  },
  "language_info": {
   "codemirror_mode": {
    "name": "ipython",
    "version": 3
   },
   "file_extension": ".py",
   "mimetype": "text/x-python",
   "name": "python",
   "nbconvert_exporter": "python",
   "pygments_lexer": "ipython3",
   "version": "3.11.4"
  },
  "orig_nbformat": 4
 },
 "nbformat": 4,
 "nbformat_minor": 2
}
